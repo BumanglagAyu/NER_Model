{
 "cells": [
  {
   "cell_type": "markdown",
   "metadata": {},
   "source": [
    "Data PreProcessing"
   ]
  },
  {
   "cell_type": "code",
   "execution_count": 115,
   "metadata": {},
   "outputs": [],
   "source": [
    "import spacy\n",
    "import pandas as pd\n",
    "import numpy as np\n",
    "import re\n",
    "from unidecode import unidecode\n",
    "import contractions"
   ]
  },
  {
   "cell_type": "code",
   "execution_count": 116,
   "metadata": {},
   "outputs": [
    {
     "name": "stderr",
     "output_type": "stream",
     "text": [
      "<>:1: SyntaxWarning: invalid escape sequence '\\w'\n",
      "<>:1: SyntaxWarning: invalid escape sequence '\\w'\n",
      "C:\\Users\\User\\AppData\\Local\\Temp\\ipykernel_38876\\316878166.py:1: SyntaxWarning: invalid escape sequence '\\w'\n",
      "  file_path = \"master-gdc-gdcdatasets-2020446966_en-2020446966_en\\wdl_data_en.csv\"\n",
      "C:\\Users\\User\\AppData\\Local\\Temp\\ipykernel_38876\\316878166.py:2: DtypeWarning: Columns (23,30,31,36,37,38,40,44,45,46,48,52,53,54,55,56,57,58,60,61,64,65,66,69,70,72,73,74,75,77,79,80,81,82,83,84,85,87,88,89,90,91,92,93,94,95,96,97,98,99,100,101) have mixed types. Specify dtype option on import or set low_memory=False.\n",
      "  df = pd.read_csv(file_path)\n"
     ]
    }
   ],
   "source": [
    "file_path = \"master-gdc-gdcdatasets-2020446966_en-2020446966_en\\wdl_data_en.csv\"\n",
    "df = pd.read_csv(file_path)"
   ]
  },
  {
   "cell_type": "code",
   "execution_count": 117,
   "metadata": {},
   "outputs": [],
   "source": [
    "# Load spaCy's English NER model\n",
    "nlp = spacy.load(\"en_core_web_sm\")"
   ]
  },
  {
   "cell_type": "code",
   "execution_count": 118,
   "metadata": {},
   "outputs": [],
   "source": [
    "# Count columns before dropping\n",
    "initial_columns = df.shape[1]"
   ]
  },
  {
   "cell_type": "code",
   "execution_count": 119,
   "metadata": {},
   "outputs": [],
   "source": [
    "threshold = 75\n",
    "df = df.loc[:, df.isnull().mean() * 100 < threshold]"
   ]
  },
  {
   "cell_type": "code",
   "execution_count": 120,
   "metadata": {},
   "outputs": [],
   "source": [
    "# Count columns after dropping\n",
    "final_columns = df.shape[1]"
   ]
  },
  {
   "cell_type": "code",
   "execution_count": 121,
   "metadata": {},
   "outputs": [],
   "source": [
    "df= df.drop([\"wdl_id\", \"collection\", \"wdl_url\", \"handle\",\"title_in_original_language\", \"Date Created\", \"Dewey Decimal Code\", \"Additional Subjects\", \"Physical Description\", \"Note\", \"Type of Item\", \"Language\", \"Place of Publication\"], axis=1)"
   ]
  },
  {
   "cell_type": "code",
   "execution_count": 122,
   "metadata": {},
   "outputs": [
    {
     "name": "stdout",
     "output_type": "stream",
     "text": [
      "Columns before dropping: 102\n",
      "Columns after dropping: 19\n",
      "Columns removed: 83\n"
     ]
    }
   ],
   "source": [
    "# Display results\n",
    "print(f\"Columns before dropping: {initial_columns}\")\n",
    "print(f\"Columns after dropping: {final_columns}\")\n",
    "print(f\"Columns removed: {initial_columns - final_columns}\")"
   ]
  },
  {
   "cell_type": "code",
   "execution_count": 123,
   "metadata": {},
   "outputs": [
    {
     "name": "stderr",
     "output_type": "stream",
     "text": [
      "C:\\Users\\User\\AppData\\Local\\Temp\\ipykernel_38876\\2058031408.py:8: FutureWarning: DataFrame.applymap has been deprecated. Use DataFrame.map instead.\n",
      "  df = df.applymap(remove_accents)\n"
     ]
    }
   ],
   "source": [
    "\n",
    "# Function to remove accents\n",
    "def remove_accents(text):\n",
    "    if isinstance(text, str):\n",
    "        return unidecode(text)\n",
    "    return text\n",
    "\n",
    "# Apply to all text columns\n",
    "df = df.applymap(remove_accents)"
   ]
  },
  {
   "cell_type": "code",
   "execution_count": 124,
   "metadata": {},
   "outputs": [],
   "source": [
    "# Function to clean and preprocess text\n",
    "def preprocess_text(text):\n",
    "    if pd.isna(text):\n",
    "        return \"\"\n",
    "    text = contractions.fix(text)  # Expand contractions\n",
    "    text = text.lower() \n",
    "    text = re.sub(r\"[^a-zA-Z0-9\\s]\", \"\", text)\n",
    "    text = re.sub(r\"\\s+\", \" \", text).strip()\n",
    "    doc = nlp(text)\n",
    "    # Remove stopwords and lemmatize\n",
    "    clean_text = \" \".join([token.lemma_ for token in doc])\n",
    "\n",
    "    return clean_text"
   ]
  },
  {
   "cell_type": "code",
   "execution_count": 125,
   "metadata": {},
   "outputs": [],
   "source": [
    "# Randomly pick 5000 rows\n",
    "df = df.sample(n=5000, random_state=1)"
   ]
  },
  {
   "cell_type": "code",
   "execution_count": 126,
   "metadata": {},
   "outputs": [],
   "source": [
    "# Save cleaned data\n",
    "cleaned_file_path = \"master-gdc-gdcdatasets-2020446966_en-2020446966_en/output1.csv\"\n",
    "df.to_csv(cleaned_file_path, index=False)"
   ]
  },
  {
   "cell_type": "code",
   "execution_count": null,
   "metadata": {},
   "outputs": [],
   "source": []
  }
 ],
 "metadata": {
  "kernelspec": {
   "display_name": "base",
   "language": "python",
   "name": "python3"
  },
  "language_info": {
   "codemirror_mode": {
    "name": "ipython",
    "version": 3
   },
   "file_extension": ".py",
   "mimetype": "text/x-python",
   "name": "python",
   "nbconvert_exporter": "python",
   "pygments_lexer": "ipython3",
   "version": "3.12.7"
  }
 },
 "nbformat": 4,
 "nbformat_minor": 2
}
